{
 "cells": [
  {
   "cell_type": "code",
   "execution_count": 1,
   "id": "93fb14e2",
   "metadata": {},
   "outputs": [],
   "source": [
    "import pandas as pd\n",
    "import matplotlib.pyplot as plt\n",
    "%matplotlib inline\n",
    "import numpy as np"
   ]
  },
  {
   "cell_type": "code",
   "execution_count": 2,
   "id": "fcbe92c4",
   "metadata": {},
   "outputs": [],
   "source": [
    "df_laptop = pd.read_csv(\"keyword_and_lag_search_analytics_data1.csv\")"
   ]
  },
  {
   "cell_type": "code",
   "execution_count": 3,
   "id": "157f31bb",
   "metadata": {},
   "outputs": [
    {
     "data": {
      "text/html": [
       "<div>\n",
       "<style scoped>\n",
       "    .dataframe tbody tr th:only-of-type {\n",
       "        vertical-align: middle;\n",
       "    }\n",
       "\n",
       "    .dataframe tbody tr th {\n",
       "        vertical-align: top;\n",
       "    }\n",
       "\n",
       "    .dataframe thead th {\n",
       "        text-align: right;\n",
       "    }\n",
       "</style>\n",
       "<table border=\"1\" class=\"dataframe\">\n",
       "  <thead>\n",
       "    <tr style=\"text-align: right;\">\n",
       "      <th></th>\n",
       "      <th>date</th>\n",
       "      <th>Sales</th>\n",
       "      <th>lenovo legion</th>\n",
       "      <th>lenovo laptops</th>\n",
       "      <th>lenovo</th>\n",
       "      <th>gaming laptops</th>\n",
       "      <th>legion laptop</th>\n",
       "      <th>lenovo gaming laptops</th>\n",
       "      <th>lenovo legion laptop</th>\n",
       "      <th>lenovo laptop</th>\n",
       "      <th>...</th>\n",
       "      <th>is_month_start</th>\n",
       "      <th>is_month_end</th>\n",
       "      <th>SMA_3</th>\n",
       "      <th>SMA_4</th>\n",
       "      <th>SMA_5</th>\n",
       "      <th>Sales_month</th>\n",
       "      <th>Sales_qtr</th>\n",
       "      <th>contri_week_month</th>\n",
       "      <th>contri_week_quarter</th>\n",
       "      <th>SI_Quarter_week</th>\n",
       "    </tr>\n",
       "  </thead>\n",
       "  <tbody>\n",
       "    <tr>\n",
       "      <th>0</th>\n",
       "      <td>01/07/2018</td>\n",
       "      <td>3.102734e+05</td>\n",
       "      <td>28</td>\n",
       "      <td>69</td>\n",
       "      <td>100</td>\n",
       "      <td>62</td>\n",
       "      <td>28</td>\n",
       "      <td>35</td>\n",
       "      <td>30</td>\n",
       "      <td>48</td>\n",
       "      <td>...</td>\n",
       "      <td>0</td>\n",
       "      <td>0</td>\n",
       "      <td>0.000000e+00</td>\n",
       "      <td>0.000000e+00</td>\n",
       "      <td>0.000</td>\n",
       "      <td>1672106.384</td>\n",
       "      <td>5.647214e+06</td>\n",
       "      <td>0.185558</td>\n",
       "      <td>0.054943</td>\n",
       "      <td>0.656799</td>\n",
       "    </tr>\n",
       "    <tr>\n",
       "      <th>1</th>\n",
       "      <td>1/14/2018</td>\n",
       "      <td>5.774019e+05</td>\n",
       "      <td>27</td>\n",
       "      <td>66</td>\n",
       "      <td>96</td>\n",
       "      <td>59</td>\n",
       "      <td>27</td>\n",
       "      <td>51</td>\n",
       "      <td>32</td>\n",
       "      <td>46</td>\n",
       "      <td>...</td>\n",
       "      <td>0</td>\n",
       "      <td>0</td>\n",
       "      <td>0.000000e+00</td>\n",
       "      <td>0.000000e+00</td>\n",
       "      <td>0.000</td>\n",
       "      <td>1672106.384</td>\n",
       "      <td>5.647214e+06</td>\n",
       "      <td>0.345314</td>\n",
       "      <td>0.102245</td>\n",
       "      <td>0.860645</td>\n",
       "    </tr>\n",
       "    <tr>\n",
       "      <th>2</th>\n",
       "      <td>1/21/2018</td>\n",
       "      <td>4.059437e+05</td>\n",
       "      <td>27</td>\n",
       "      <td>66</td>\n",
       "      <td>94</td>\n",
       "      <td>60</td>\n",
       "      <td>26</td>\n",
       "      <td>46</td>\n",
       "      <td>26</td>\n",
       "      <td>46</td>\n",
       "      <td>...</td>\n",
       "      <td>0</td>\n",
       "      <td>0</td>\n",
       "      <td>0.000000e+00</td>\n",
       "      <td>0.000000e+00</td>\n",
       "      <td>0.000</td>\n",
       "      <td>1672106.384</td>\n",
       "      <td>5.647214e+06</td>\n",
       "      <td>0.242774</td>\n",
       "      <td>0.071884</td>\n",
       "      <td>0.769455</td>\n",
       "    </tr>\n",
       "    <tr>\n",
       "      <th>3</th>\n",
       "      <td>1/28/2018</td>\n",
       "      <td>3.784874e+05</td>\n",
       "      <td>26</td>\n",
       "      <td>67</td>\n",
       "      <td>95</td>\n",
       "      <td>69</td>\n",
       "      <td>19</td>\n",
       "      <td>51</td>\n",
       "      <td>22</td>\n",
       "      <td>46</td>\n",
       "      <td>...</td>\n",
       "      <td>0</td>\n",
       "      <td>0</td>\n",
       "      <td>4.312063e+05</td>\n",
       "      <td>0.000000e+00</td>\n",
       "      <td>0.000</td>\n",
       "      <td>1672106.384</td>\n",
       "      <td>5.647214e+06</td>\n",
       "      <td>0.226354</td>\n",
       "      <td>0.067022</td>\n",
       "      <td>0.654300</td>\n",
       "    </tr>\n",
       "    <tr>\n",
       "      <th>4</th>\n",
       "      <td>02/04/2018</td>\n",
       "      <td>4.607665e+05</td>\n",
       "      <td>24</td>\n",
       "      <td>64</td>\n",
       "      <td>88</td>\n",
       "      <td>61</td>\n",
       "      <td>23</td>\n",
       "      <td>45</td>\n",
       "      <td>25</td>\n",
       "      <td>45</td>\n",
       "      <td>...</td>\n",
       "      <td>0</td>\n",
       "      <td>0</td>\n",
       "      <td>4.539443e+05</td>\n",
       "      <td>4.180266e+05</td>\n",
       "      <td>0.000</td>\n",
       "      <td>2376650.170</td>\n",
       "      <td>5.647214e+06</td>\n",
       "      <td>0.193872</td>\n",
       "      <td>0.081592</td>\n",
       "      <td>0.589324</td>\n",
       "    </tr>\n",
       "    <tr>\n",
       "      <th>...</th>\n",
       "      <td>...</td>\n",
       "      <td>...</td>\n",
       "      <td>...</td>\n",
       "      <td>...</td>\n",
       "      <td>...</td>\n",
       "      <td>...</td>\n",
       "      <td>...</td>\n",
       "      <td>...</td>\n",
       "      <td>...</td>\n",
       "      <td>...</td>\n",
       "      <td>...</td>\n",
       "      <td>...</td>\n",
       "      <td>...</td>\n",
       "      <td>...</td>\n",
       "      <td>...</td>\n",
       "      <td>...</td>\n",
       "      <td>...</td>\n",
       "      <td>...</td>\n",
       "      <td>...</td>\n",
       "      <td>...</td>\n",
       "      <td>...</td>\n",
       "    </tr>\n",
       "    <tr>\n",
       "      <th>133</th>\n",
       "      <td>7/26/2020</td>\n",
       "      <td>1.662375e+06</td>\n",
       "      <td>84</td>\n",
       "      <td>83</td>\n",
       "      <td>77</td>\n",
       "      <td>72</td>\n",
       "      <td>85</td>\n",
       "      <td>74</td>\n",
       "      <td>86</td>\n",
       "      <td>83</td>\n",
       "      <td>...</td>\n",
       "      <td>0</td>\n",
       "      <td>0</td>\n",
       "      <td>1.918020e+06</td>\n",
       "      <td>1.858023e+06</td>\n",
       "      <td>1909535.733</td>\n",
       "      <td>7416435.044</td>\n",
       "      <td>1.548428e+07</td>\n",
       "      <td>0.224147</td>\n",
       "      <td>0.107359</td>\n",
       "      <td>1.361488</td>\n",
       "    </tr>\n",
       "    <tr>\n",
       "      <th>134</th>\n",
       "      <td>08/02/2020</td>\n",
       "      <td>1.934459e+06</td>\n",
       "      <td>86</td>\n",
       "      <td>83</td>\n",
       "      <td>79</td>\n",
       "      <td>70</td>\n",
       "      <td>92</td>\n",
       "      <td>90</td>\n",
       "      <td>88</td>\n",
       "      <td>89</td>\n",
       "      <td>...</td>\n",
       "      <td>0</td>\n",
       "      <td>0</td>\n",
       "      <td>1.954986e+06</td>\n",
       "      <td>1.854109e+06</td>\n",
       "      <td>1818893.531</td>\n",
       "      <td>8067844.580</td>\n",
       "      <td>1.548428e+07</td>\n",
       "      <td>0.239774</td>\n",
       "      <td>0.124930</td>\n",
       "      <td>1.641888</td>\n",
       "    </tr>\n",
       "    <tr>\n",
       "      <th>135</th>\n",
       "      <td>08/09/2020</td>\n",
       "      <td>2.327555e+06</td>\n",
       "      <td>87</td>\n",
       "      <td>86</td>\n",
       "      <td>80</td>\n",
       "      <td>61</td>\n",
       "      <td>86</td>\n",
       "      <td>65</td>\n",
       "      <td>86</td>\n",
       "      <td>89</td>\n",
       "      <td>...</td>\n",
       "      <td>0</td>\n",
       "      <td>0</td>\n",
       "      <td>1.784856e+06</td>\n",
       "      <td>1.949854e+06</td>\n",
       "      <td>1870178.719</td>\n",
       "      <td>8067844.580</td>\n",
       "      <td>1.548428e+07</td>\n",
       "      <td>0.288498</td>\n",
       "      <td>0.150317</td>\n",
       "      <td>1.893072</td>\n",
       "    </tr>\n",
       "    <tr>\n",
       "      <th>136</th>\n",
       "      <td>8/16/2020</td>\n",
       "      <td>2.058943e+06</td>\n",
       "      <td>82</td>\n",
       "      <td>90</td>\n",
       "      <td>82</td>\n",
       "      <td>68</td>\n",
       "      <td>87</td>\n",
       "      <td>80</td>\n",
       "      <td>87</td>\n",
       "      <td>92</td>\n",
       "      <td>...</td>\n",
       "      <td>0</td>\n",
       "      <td>0</td>\n",
       "      <td>1.974796e+06</td>\n",
       "      <td>1.920530e+06</td>\n",
       "      <td>2025394.329</td>\n",
       "      <td>8067844.580</td>\n",
       "      <td>1.548428e+07</td>\n",
       "      <td>0.255204</td>\n",
       "      <td>0.132970</td>\n",
       "      <td>1.770490</td>\n",
       "    </tr>\n",
       "    <tr>\n",
       "      <th>137</th>\n",
       "      <td>8/23/2020</td>\n",
       "      <td>1.746888e+06</td>\n",
       "      <td>98</td>\n",
       "      <td>87</td>\n",
       "      <td>86</td>\n",
       "      <td>74</td>\n",
       "      <td>92</td>\n",
       "      <td>76</td>\n",
       "      <td>91</td>\n",
       "      <td>99</td>\n",
       "      <td>...</td>\n",
       "      <td>0</td>\n",
       "      <td>0</td>\n",
       "      <td>2.106986e+06</td>\n",
       "      <td>1.995833e+06</td>\n",
       "      <td>1948213.002</td>\n",
       "      <td>8067844.580</td>\n",
       "      <td>1.548428e+07</td>\n",
       "      <td>0.216525</td>\n",
       "      <td>0.112817</td>\n",
       "      <td>1.621653</td>\n",
       "    </tr>\n",
       "  </tbody>\n",
       "</table>\n",
       "<p>138 rows × 64 columns</p>\n",
       "</div>"
      ],
      "text/plain": [
       "           date         Sales  lenovo legion  lenovo laptops  lenovo  \\\n",
       "0    01/07/2018  3.102734e+05             28              69     100   \n",
       "1     1/14/2018  5.774019e+05             27              66      96   \n",
       "2     1/21/2018  4.059437e+05             27              66      94   \n",
       "3     1/28/2018  3.784874e+05             26              67      95   \n",
       "4    02/04/2018  4.607665e+05             24              64      88   \n",
       "..          ...           ...            ...             ...     ...   \n",
       "133   7/26/2020  1.662375e+06             84              83      77   \n",
       "134  08/02/2020  1.934459e+06             86              83      79   \n",
       "135  08/09/2020  2.327555e+06             87              86      80   \n",
       "136   8/16/2020  2.058943e+06             82              90      82   \n",
       "137   8/23/2020  1.746888e+06             98              87      86   \n",
       "\n",
       "     gaming laptops  legion laptop  lenovo gaming laptops  \\\n",
       "0                62             28                     35   \n",
       "1                59             27                     51   \n",
       "2                60             26                     46   \n",
       "3                69             19                     51   \n",
       "4                61             23                     45   \n",
       "..              ...            ...                    ...   \n",
       "133              72             85                     74   \n",
       "134              70             92                     90   \n",
       "135              61             86                     65   \n",
       "136              68             87                     80   \n",
       "137              74             92                     76   \n",
       "\n",
       "     lenovo legion laptop  lenovo laptop  ...  is_month_start  is_month_end  \\\n",
       "0                      30             48  ...               0             0   \n",
       "1                      32             46  ...               0             0   \n",
       "2                      26             46  ...               0             0   \n",
       "3                      22             46  ...               0             0   \n",
       "4                      25             45  ...               0             0   \n",
       "..                    ...            ...  ...             ...           ...   \n",
       "133                    86             83  ...               0             0   \n",
       "134                    88             89  ...               0             0   \n",
       "135                    86             89  ...               0             0   \n",
       "136                    87             92  ...               0             0   \n",
       "137                    91             99  ...               0             0   \n",
       "\n",
       "            SMA_3         SMA_4        SMA_5  Sales_month     Sales_qtr  \\\n",
       "0    0.000000e+00  0.000000e+00        0.000  1672106.384  5.647214e+06   \n",
       "1    0.000000e+00  0.000000e+00        0.000  1672106.384  5.647214e+06   \n",
       "2    0.000000e+00  0.000000e+00        0.000  1672106.384  5.647214e+06   \n",
       "3    4.312063e+05  0.000000e+00        0.000  1672106.384  5.647214e+06   \n",
       "4    4.539443e+05  4.180266e+05        0.000  2376650.170  5.647214e+06   \n",
       "..            ...           ...          ...          ...           ...   \n",
       "133  1.918020e+06  1.858023e+06  1909535.733  7416435.044  1.548428e+07   \n",
       "134  1.954986e+06  1.854109e+06  1818893.531  8067844.580  1.548428e+07   \n",
       "135  1.784856e+06  1.949854e+06  1870178.719  8067844.580  1.548428e+07   \n",
       "136  1.974796e+06  1.920530e+06  2025394.329  8067844.580  1.548428e+07   \n",
       "137  2.106986e+06  1.995833e+06  1948213.002  8067844.580  1.548428e+07   \n",
       "\n",
       "     contri_week_month  contri_week_quarter  SI_Quarter_week  \n",
       "0             0.185558             0.054943         0.656799  \n",
       "1             0.345314             0.102245         0.860645  \n",
       "2             0.242774             0.071884         0.769455  \n",
       "3             0.226354             0.067022         0.654300  \n",
       "4             0.193872             0.081592         0.589324  \n",
       "..                 ...                  ...              ...  \n",
       "133           0.224147             0.107359         1.361488  \n",
       "134           0.239774             0.124930         1.641888  \n",
       "135           0.288498             0.150317         1.893072  \n",
       "136           0.255204             0.132970         1.770490  \n",
       "137           0.216525             0.112817         1.621653  \n",
       "\n",
       "[138 rows x 64 columns]"
      ]
     },
     "execution_count": 3,
     "metadata": {},
     "output_type": "execute_result"
    }
   ],
   "source": [
    "df_laptop"
   ]
  },
  {
   "cell_type": "code",
   "execution_count": 4,
   "id": "d3d49a86",
   "metadata": {},
   "outputs": [],
   "source": [
    "#Converting data into DateTime format\n",
    "df_laptop['date'] = pd.to_datetime(df_laptop['date'], infer_datetime_format = True)\n",
    "\n",
    "#Reducing Model to only Date and Sales and setting date as index\n",
    "reducetods = df_laptop[['Sales', 'date']]\n",
    "indexeddf = reducetods.set_index(['date'])"
   ]
  },
  {
   "cell_type": "code",
   "execution_count": 5,
   "id": "3aee9e30",
   "metadata": {},
   "outputs": [
    {
     "data": {
      "text/html": [
       "<div>\n",
       "<style scoped>\n",
       "    .dataframe tbody tr th:only-of-type {\n",
       "        vertical-align: middle;\n",
       "    }\n",
       "\n",
       "    .dataframe tbody tr th {\n",
       "        vertical-align: top;\n",
       "    }\n",
       "\n",
       "    .dataframe thead th {\n",
       "        text-align: right;\n",
       "    }\n",
       "</style>\n",
       "<table border=\"1\" class=\"dataframe\">\n",
       "  <thead>\n",
       "    <tr style=\"text-align: right;\">\n",
       "      <th></th>\n",
       "      <th>Sales</th>\n",
       "    </tr>\n",
       "    <tr>\n",
       "      <th>date</th>\n",
       "      <th></th>\n",
       "    </tr>\n",
       "  </thead>\n",
       "  <tbody>\n",
       "    <tr>\n",
       "      <th>2018-01-07</th>\n",
       "      <td>3.102734e+05</td>\n",
       "    </tr>\n",
       "    <tr>\n",
       "      <th>2018-01-14</th>\n",
       "      <td>5.774019e+05</td>\n",
       "    </tr>\n",
       "    <tr>\n",
       "      <th>2018-01-21</th>\n",
       "      <td>4.059437e+05</td>\n",
       "    </tr>\n",
       "    <tr>\n",
       "      <th>2018-01-28</th>\n",
       "      <td>3.784874e+05</td>\n",
       "    </tr>\n",
       "    <tr>\n",
       "      <th>2018-02-04</th>\n",
       "      <td>4.607665e+05</td>\n",
       "    </tr>\n",
       "    <tr>\n",
       "      <th>...</th>\n",
       "      <td>...</td>\n",
       "    </tr>\n",
       "    <tr>\n",
       "      <th>2020-07-26</th>\n",
       "      <td>1.662375e+06</td>\n",
       "    </tr>\n",
       "    <tr>\n",
       "      <th>2020-08-02</th>\n",
       "      <td>1.934459e+06</td>\n",
       "    </tr>\n",
       "    <tr>\n",
       "      <th>2020-08-09</th>\n",
       "      <td>2.327555e+06</td>\n",
       "    </tr>\n",
       "    <tr>\n",
       "      <th>2020-08-16</th>\n",
       "      <td>2.058943e+06</td>\n",
       "    </tr>\n",
       "    <tr>\n",
       "      <th>2020-08-23</th>\n",
       "      <td>1.746888e+06</td>\n",
       "    </tr>\n",
       "  </tbody>\n",
       "</table>\n",
       "<p>138 rows × 1 columns</p>\n",
       "</div>"
      ],
      "text/plain": [
       "                   Sales\n",
       "date                    \n",
       "2018-01-07  3.102734e+05\n",
       "2018-01-14  5.774019e+05\n",
       "2018-01-21  4.059437e+05\n",
       "2018-01-28  3.784874e+05\n",
       "2018-02-04  4.607665e+05\n",
       "...                  ...\n",
       "2020-07-26  1.662375e+06\n",
       "2020-08-02  1.934459e+06\n",
       "2020-08-09  2.327555e+06\n",
       "2020-08-16  2.058943e+06\n",
       "2020-08-23  1.746888e+06\n",
       "\n",
       "[138 rows x 1 columns]"
      ]
     },
     "execution_count": 5,
     "metadata": {},
     "output_type": "execute_result"
    }
   ],
   "source": [
    "indexeddf"
   ]
  },
  {
   "cell_type": "code",
   "execution_count": 7,
   "id": "e37c2efd",
   "metadata": {},
   "outputs": [
    {
     "data": {
      "text/html": [
       "<div>\n",
       "<style scoped>\n",
       "    .dataframe tbody tr th:only-of-type {\n",
       "        vertical-align: middle;\n",
       "    }\n",
       "\n",
       "    .dataframe tbody tr th {\n",
       "        vertical-align: top;\n",
       "    }\n",
       "\n",
       "    .dataframe thead th {\n",
       "        text-align: right;\n",
       "    }\n",
       "</style>\n",
       "<table border=\"1\" class=\"dataframe\">\n",
       "  <thead>\n",
       "    <tr style=\"text-align: right;\">\n",
       "      <th></th>\n",
       "      <th>Sales</th>\n",
       "    </tr>\n",
       "  </thead>\n",
       "  <tbody>\n",
       "    <tr>\n",
       "      <th>count</th>\n",
       "      <td>1.380000e+02</td>\n",
       "    </tr>\n",
       "    <tr>\n",
       "      <th>mean</th>\n",
       "      <td>9.595989e+05</td>\n",
       "    </tr>\n",
       "    <tr>\n",
       "      <th>std</th>\n",
       "      <td>7.103048e+05</td>\n",
       "    </tr>\n",
       "    <tr>\n",
       "      <th>min</th>\n",
       "      <td>2.411555e+05</td>\n",
       "    </tr>\n",
       "    <tr>\n",
       "      <th>25%</th>\n",
       "      <td>5.096270e+05</td>\n",
       "    </tr>\n",
       "    <tr>\n",
       "      <th>50%</th>\n",
       "      <td>6.991697e+05</td>\n",
       "    </tr>\n",
       "    <tr>\n",
       "      <th>75%</th>\n",
       "      <td>1.272832e+06</td>\n",
       "    </tr>\n",
       "    <tr>\n",
       "      <th>max</th>\n",
       "      <td>5.108560e+06</td>\n",
       "    </tr>\n",
       "  </tbody>\n",
       "</table>\n",
       "</div>"
      ],
      "text/plain": [
       "              Sales\n",
       "count  1.380000e+02\n",
       "mean   9.595989e+05\n",
       "std    7.103048e+05\n",
       "min    2.411555e+05\n",
       "25%    5.096270e+05\n",
       "50%    6.991697e+05\n",
       "75%    1.272832e+06\n",
       "max    5.108560e+06"
      ]
     },
     "execution_count": 7,
     "metadata": {},
     "output_type": "execute_result"
    }
   ],
   "source": [
    "indexeddf.describe()"
   ]
  },
  {
   "cell_type": "code",
   "execution_count": 8,
   "id": "29878363",
   "metadata": {},
   "outputs": [
    {
     "data": {
      "text/plain": [
       "<AxesSubplot:xlabel='date'>"
      ]
     },
     "execution_count": 8,
     "metadata": {},
     "output_type": "execute_result"
    },
    {
     "data": {
      "image/png": "[encoded data removed]",
      "text/plain": [
       "<Figure size 432x288 with 1 Axes>"
      ]
     },
     "metadata": {
      "needs_background": "light"
     },
     "output_type": "display_data"
    }
   ],
   "source": [
    "indexeddf.plot()"
   ]
  },
  {
   "cell_type": "code",
   "execution_count": 9,
   "id": "c09359d5",
   "metadata": {},
   "outputs": [],
   "source": [
    "#Testing for Stationarity\n",
    "\n",
    "from statsmodels.tsa.stattools import adfuller"
   ]
  },
  {
   "cell_type": "code",
   "execution_count": 14,
   "id": "06fbadd3",
   "metadata": {},
   "outputs": [],
   "source": [
    "adftest1 = adfuller(indexeddf['Sales'])"
   ]
  },
  {
   "cell_type": "code",
   "execution_count": 18,
   "id": "702b3ef7",
   "metadata": {},
   "outputs": [
    {
     "name": "stdout",
     "output_type": "stream",
     "text": [
      "Test Statistic                  -2.913674\n",
      "p-value                          0.043781\n",
      "#Lags Used                       2.000000\n",
      "Number of Observations Used    135.000000\n",
      "dtype: float64\n"
     ]
    }
   ],
   "source": [
    "adfoutput1 = pd.Series(adftest1[0:4], index = ['Test Statistic', 'p-value', '#Lags Used', 'Number of Observations Used'])\n",
    "print(adfoutput1)"
   ]
  },
  {
   "cell_type": "code",
   "execution_count": 19,
   "id": "311c4cbd",
   "metadata": {},
   "outputs": [],
   "source": [
    "#Differencing Data"
   ]
  },
  {
   "cell_type": "code",
   "execution_count": 51,
   "id": "9850e279",
   "metadata": {},
   "outputs": [],
   "source": [
    "#Recognising Annualised Nature of Trends, Data is shifted by 52 weeks\n",
    "\n",
    "indexeddf['Sales Difference 13'] = indexeddf['Sales'] - indexeddf['Sales'].shift(13)\n",
    "indexeddf['Sales Difference 26'] = indexeddf['Sales'] - indexeddf['Sales'].shift(26)\n",
    "indexeddf['Sales Difference 52'] = indexeddf['Sales'] - indexeddf['Sales'].shift(52)\n",
    "indexeddf['Sales Difference 78'] = indexeddf['Sales'] - indexeddf['Sales'].shift(78)"
   ]
  },
  {
   "cell_type": "code",
   "execution_count": 54,
   "id": "ff5fb6ce",
   "metadata": {},
   "outputs": [
    {
     "data": {
      "text/html": [
       "<div>\n",
       "<style scoped>\n",
       "    .dataframe tbody tr th:only-of-type {\n",
       "        vertical-align: middle;\n",
       "    }\n",
       "\n",
       "    .dataframe tbody tr th {\n",
       "        vertical-align: top;\n",
       "    }\n",
       "\n",
       "    .dataframe thead th {\n",
       "        text-align: right;\n",
       "    }\n",
       "</style>\n",
       "<table border=\"1\" class=\"dataframe\">\n",
       "  <thead>\n",
       "    <tr style=\"text-align: right;\">\n",
       "      <th></th>\n",
       "      <th>Sales</th>\n",
       "      <th>Sales Difference 13</th>\n",
       "      <th>Sales Difference 26</th>\n",
       "      <th>Sales Difference 52</th>\n",
       "      <th>Sales Difference 78</th>\n",
       "    </tr>\n",
       "    <tr>\n",
       "      <th>date</th>\n",
       "      <th></th>\n",
       "      <th></th>\n",
       "      <th></th>\n",
       "      <th></th>\n",
       "      <th></th>\n",
       "    </tr>\n",
       "  </thead>\n",
       "  <tbody>\n",
       "    <tr>\n",
       "      <th>2018-01-07</th>\n",
       "      <td>3.102734e+05</td>\n",
       "      <td>NaN</td>\n",
       "      <td>NaN</td>\n",
       "      <td>NaN</td>\n",
       "      <td>NaN</td>\n",
       "    </tr>\n",
       "    <tr>\n",
       "      <th>2018-01-14</th>\n",
       "      <td>5.774019e+05</td>\n",
       "      <td>NaN</td>\n",
       "      <td>NaN</td>\n",
       "      <td>NaN</td>\n",
       "      <td>NaN</td>\n",
       "    </tr>\n",
       "    <tr>\n",
       "      <th>2018-01-21</th>\n",
       "      <td>4.059437e+05</td>\n",
       "      <td>NaN</td>\n",
       "      <td>NaN</td>\n",
       "      <td>NaN</td>\n",
       "      <td>NaN</td>\n",
       "    </tr>\n",
       "    <tr>\n",
       "      <th>2018-01-28</th>\n",
       "      <td>3.784874e+05</td>\n",
       "      <td>NaN</td>\n",
       "      <td>NaN</td>\n",
       "      <td>NaN</td>\n",
       "      <td>NaN</td>\n",
       "    </tr>\n",
       "    <tr>\n",
       "      <th>2018-02-04</th>\n",
       "      <td>4.607665e+05</td>\n",
       "      <td>NaN</td>\n",
       "      <td>NaN</td>\n",
       "      <td>NaN</td>\n",
       "      <td>NaN</td>\n",
       "    </tr>\n",
       "    <tr>\n",
       "      <th>...</th>\n",
       "      <td>...</td>\n",
       "      <td>...</td>\n",
       "      <td>...</td>\n",
       "      <td>...</td>\n",
       "      <td>...</td>\n",
       "    </tr>\n",
       "    <tr>\n",
       "      <th>2020-07-26</th>\n",
       "      <td>1.662375e+06</td>\n",
       "      <td>270767.216</td>\n",
       "      <td>1055015.73</td>\n",
       "      <td>595477.34</td>\n",
       "      <td>1043676.24</td>\n",
       "    </tr>\n",
       "    <tr>\n",
       "      <th>2020-08-02</th>\n",
       "      <td>1.934459e+06</td>\n",
       "      <td>529878.090</td>\n",
       "      <td>1426580.09</td>\n",
       "      <td>452422.88</td>\n",
       "      <td>1457898.32</td>\n",
       "    </tr>\n",
       "    <tr>\n",
       "      <th>2020-08-09</th>\n",
       "      <td>2.327555e+06</td>\n",
       "      <td>677887.730</td>\n",
       "      <td>1771636.39</td>\n",
       "      <td>538537.21</td>\n",
       "      <td>1704135.86</td>\n",
       "    </tr>\n",
       "    <tr>\n",
       "      <th>2020-08-16</th>\n",
       "      <td>2.058943e+06</td>\n",
       "      <td>347761.530</td>\n",
       "      <td>1497805.97</td>\n",
       "      <td>354271.13</td>\n",
       "      <td>1162167.57</td>\n",
       "    </tr>\n",
       "    <tr>\n",
       "      <th>2020-08-23</th>\n",
       "      <td>1.746888e+06</td>\n",
       "      <td>-652269.980</td>\n",
       "      <td>889592.21</td>\n",
       "      <td>31855.04</td>\n",
       "      <td>713489.58</td>\n",
       "    </tr>\n",
       "  </tbody>\n",
       "</table>\n",
       "<p>138 rows × 5 columns</p>\n",
       "</div>"
      ],
      "text/plain": [
       "                   Sales  Sales Difference 13  Sales Difference 26  \\\n",
       "date                                                                 \n",
       "2018-01-07  3.102734e+05                  NaN                  NaN   \n",
       "2018-01-14  5.774019e+05                  NaN                  NaN   \n",
       "2018-01-21  4.059437e+05                  NaN                  NaN   \n",
       "2018-01-28  3.784874e+05                  NaN                  NaN   \n",
       "2018-02-04  4.607665e+05                  NaN                  NaN   \n",
       "...                  ...                  ...                  ...   \n",
       "2020-07-26  1.662375e+06           270767.216           1055015.73   \n",
       "2020-08-02  1.934459e+06           529878.090           1426580.09   \n",
       "2020-08-09  2.327555e+06           677887.730           1771636.39   \n",
       "2020-08-16  2.058943e+06           347761.530           1497805.97   \n",
       "2020-08-23  1.746888e+06          -652269.980            889592.21   \n",
       "\n",
       "            Sales Difference 52  Sales Difference 78  \n",
       "date                                                  \n",
       "2018-01-07                  NaN                  NaN  \n",
       "2018-01-14                  NaN                  NaN  \n",
       "2018-01-21                  NaN                  NaN  \n",
       "2018-01-28                  NaN                  NaN  \n",
       "2018-02-04                  NaN                  NaN  \n",
       "...                         ...                  ...  \n",
       "2020-07-26            595477.34           1043676.24  \n",
       "2020-08-02            452422.88           1457898.32  \n",
       "2020-08-09            538537.21           1704135.86  \n",
       "2020-08-16            354271.13           1162167.57  \n",
       "2020-08-23             31855.04            713489.58  \n",
       "\n",
       "[138 rows x 5 columns]"
      ]
     },
     "execution_count": 54,
     "metadata": {},
     "output_type": "execute_result"
    }
   ],
   "source": [
    "indexeddf"
   ]
  },
  {
   "cell_type": "code",
   "execution_count": 42,
   "id": "81e7ed6c",
   "metadata": {},
   "outputs": [],
   "source": [
    "dfdiff52 = indexeddf['Sales Difference 52'].dropna()"
   ]
  },
  {
   "cell_type": "code",
   "execution_count": 52,
   "id": "819e2db4",
   "metadata": {},
   "outputs": [],
   "source": [
    "dfsd13 = indexeddf.iloc[13:138]\n",
    "dfsd26 = indexeddf.iloc[26:138]\n",
    "dfsd52 = indexeddf.iloc[52:138]\n",
    "dfsd78 = indexeddf.iloc[78:138]"
   ]
  },
  {
   "cell_type": "code",
   "execution_count": 48,
   "id": "05cf2ae6",
   "metadata": {},
   "outputs": [
    {
     "name": "stdout",
     "output_type": "stream",
     "text": [
      "Test Statistic                  -3.398916\n",
      "p-value                          0.010996\n",
      "#Lags Used                      13.000000\n",
      "Number of Observations Used    111.000000\n",
      "dtype: float64\n"
     ]
    }
   ],
   "source": [
    "adftest2 = adfuller(dfsd13['Sales Difference 13'])\n",
    "\n",
    "adfoutput2 = pd.Series(adftest2[0:4], index = ['Test Statistic', 'p-value', '#Lags Used', 'Number of Observations Used'])\n",
    "print(adfoutput2)"
   ]
  },
  {
   "cell_type": "code",
   "execution_count": 49,
   "id": "15bc1c25",
   "metadata": {},
   "outputs": [
    {
     "name": "stdout",
     "output_type": "stream",
     "text": [
      "Test Statistic                  -3.438172\n",
      "p-value                          0.009724\n",
      "#Lags Used                       2.000000\n",
      "Number of Observations Used    109.000000\n",
      "dtype: float64\n"
     ]
    }
   ],
   "source": [
    "adftest3 = adfuller(dfsd26['Sales Difference 26'])\n",
    "\n",
    "adfoutput3 = pd.Series(adftest3[0:4], index = ['Test Statistic', 'p-value', '#Lags Used', 'Number of Observations Used'])\n",
    "print(adfoutput3)"
   ]
  },
  {
   "cell_type": "code",
   "execution_count": 50,
   "id": "504ca22d",
   "metadata": {},
   "outputs": [
    {
     "name": "stdout",
     "output_type": "stream",
     "text": [
      "Test Statistic                 -3.456962\n",
      "p-value                         0.009164\n",
      "#Lags Used                      2.000000\n",
      "Number of Observations Used    83.000000\n",
      "dtype: float64\n"
     ]
    }
   ],
   "source": [
    "adftest4 = adfuller(dfsd52['Sales Difference 52'])\n",
    "\n",
    "adfoutput4 = pd.Series(adftest4[0:4], index = ['Test Statistic', 'p-value', '#Lags Used', 'Number of Observations Used'])\n",
    "print(adfoutput4)"
   ]
  },
  {
   "cell_type": "code",
   "execution_count": 55,
   "id": "54bc7735",
   "metadata": {},
   "outputs": [
    {
     "name": "stdout",
     "output_type": "stream",
     "text": [
      "Test Statistic                 -2.765284\n",
      "p-value                         0.063406\n",
      "#Lags Used                      2.000000\n",
      "Number of Observations Used    57.000000\n",
      "dtype: float64\n"
     ]
    }
   ],
   "source": [
    "adftest5 = adfuller(dfsd78['Sales Difference 78'])\n",
    "\n",
    "adfoutput5 = pd.Series(adftest5[0:4], index = ['Test Statistic', 'p-value', '#Lags Used', 'Number of Observations Used'])\n",
    "print(adfoutput5)"
   ]
  },
  {
   "cell_type": "code",
   "execution_count": 56,
   "id": "3b3b8589",
   "metadata": {},
   "outputs": [],
   "source": [
    "#As expected, p value most signficant when shift = 52 (1 year)."
   ]
  },
  {
   "cell_type": "code",
   "execution_count": 57,
   "id": "dc2be5a0",
   "metadata": {},
   "outputs": [
    {
     "data": {
      "text/plain": [
       "<AxesSubplot:xlabel='date'>"
      ]
     },
     "execution_count": 57,
     "metadata": {},
     "output_type": "execute_result"
    },
    {
     "data": {
      "image/png": "[encoded data removed]",
      "text/plain": [
       "<Figure size 432x288 with 1 Axes>"
      ]
     },
     "metadata": {
      "needs_background": "light"
     },
     "output_type": "display_data"
    }
   ],
   "source": [
    "indexeddf['Sales Difference 52'].plot()"
   ]
  },
  {
   "cell_type": "code",
   "execution_count": 59,
   "id": "7f112009",
   "metadata": {},
   "outputs": [
    {
     "data": {
      "image/png": "[encoded data removed]",
      "text/plain": [
       "<Figure size 432x288 with 1 Axes>"
      ]
     },
     "metadata": {
      "needs_background": "light"
     },
     "output_type": "display_data"
    }
   ],
   "source": [
    "#Autoregressive Model\n",
    "\n",
    "from pandas.plotting import autocorrelation_plot\n",
    "autocorrelation_plot(indexeddf['Sales'])\n",
    "plt.show()"
   ]
  },
  {
   "cell_type": "code",
   "execution_count": 106,
   "id": "d947179c",
   "metadata": {},
   "outputs": [
    {
     "data": {
      "image/png": "[encoded data removed]",
      "text/plain": [
       "<Figure size 432x288 with 3 Axes>"
      ]
     },
     "metadata": {
      "needs_background": "light"
     },
     "output_type": "display_data"
    }
   ],
   "source": [
    "from statsmodels.tsa.seasonal import seasonal_decompose\n",
    "decomposition = seasonal_decompose(indexeddf['Sales'])\n",
    "\n",
    "trend = decomposition.trend\n",
    "seasonal = decomposition.seasonal\n",
    "\n",
    "plt.subplot(411)\n",
    "plt.plot(indexeddf['Sales'], label = 'Original')\n",
    "plt.legend(loc = 'best')\n",
    "\n",
    "plt.subplot(412)\n",
    "plt.plot(trend, label = 'Trend')\n",
    "plt.legend(loc = 'best')\n",
    "\n",
    "plt.subplot(413)\n",
    "plt.plot(seasonal, label = 'Seasonality')\n",
    "plt.legend(loc = 'best')\n",
    "plt.tight_layout(pad = 0.2)"
   ]
  },
  {
   "cell_type": "code",
   "execution_count": 65,
   "id": "4570e00e",
   "metadata": {
    "scrolled": true
   },
   "outputs": [],
   "source": [
    "#Obtaining p and q using ACF and PACF\n",
    "\n",
    "import statsmodels.api as sm\n",
    "from statsmodels.graphics.tsaplots import plot_acf,plot_pacf"
   ]
  },
  {
   "cell_type": "code",
   "execution_count": 66,
   "id": "de429ba0",
   "metadata": {},
   "outputs": [
    {
     "name": "stderr",
     "output_type": "stream",
     "text": [
      "/opt/anaconda3/lib/python3.9/site-packages/statsmodels/graphics/tsaplots.py:348: FutureWarning: The default method 'yw' can produce PACF values outside of the [-1,1] interval. After 0.13, the default will change tounadjusted Yule-Walker ('ywm'). You can use this method now by setting method='ywm'.\n",
      "  warnings.warn(\n"
     ]
    },
    {
     "data": {
      "image/png": "[encoded data removed]",
      "text/plain": [
       "<Figure size 864x576 with 2 Axes>"
      ]
     },
     "metadata": {
      "needs_background": "light"
     },
     "output_type": "display_data"
    }
   ],
   "source": [
    "fig = plt.figure(figsize=(12,8))\n",
    "ax1 = fig.add_subplot(211)\n",
    "fig = sm.graphics.tsa.plot_acf(indexeddf['Sales Difference 52'].iloc[52:],lags=40,ax=ax1)\n",
    "ax2 = fig.add_subplot(212)\n",
    "fig = sm.graphics.tsa.plot_pacf(indexeddf['Sales Difference 52'].iloc[52:],lags=40,ax=ax2)"
   ]
  },
  {
   "cell_type": "code",
   "execution_count": 71,
   "id": "f709be26",
   "metadata": {},
   "outputs": [],
   "source": [
    "#For non-seasonal data\n",
    "#p = 1 (based on PACF shutdown), d = 1 (based on number of sd shifts), q = 1 (based on ACF shutdown)\n",
    "\n",
    "from statsmodels.tsa.arima.model import ARIMA"
   ]
  },
  {
   "cell_type": "code",
   "execution_count": 72,
   "id": "da667b7c",
   "metadata": {},
   "outputs": [
    {
     "name": "stderr",
     "output_type": "stream",
     "text": [
      "/opt/anaconda3/lib/python3.9/site-packages/statsmodels/tsa/base/tsa_model.py:471: ValueWarning: No frequency information was provided, so inferred frequency W-SUN will be used.\n",
      "  self._init_dates(dates, freq)\n",
      "/opt/anaconda3/lib/python3.9/site-packages/statsmodels/tsa/base/tsa_model.py:471: ValueWarning: No frequency information was provided, so inferred frequency W-SUN will be used.\n",
      "  self._init_dates(dates, freq)\n",
      "/opt/anaconda3/lib/python3.9/site-packages/statsmodels/tsa/base/tsa_model.py:471: ValueWarning: No frequency information was provided, so inferred frequency W-SUN will be used.\n",
      "  self._init_dates(dates, freq)\n"
     ]
    }
   ],
   "source": [
    "model=ARIMA(indexeddf['Sales'],order=(1,1,1))\n",
    "model_fit=model.fit()"
   ]
  },
  {
   "cell_type": "code",
   "execution_count": 73,
   "id": "ffb98e36",
   "metadata": {},
   "outputs": [
    {
     "data": {
      "text/html": [
       "<table class=\"simpletable\">\n",
       "<caption>SARIMAX Results</caption>\n",
       "<tr>\n",
       "  <th>Dep. Variable:</th>         <td>Sales</td>      <th>  No. Observations:  </th>    <td>138</td>   \n",
       "</tr>\n",
       "<tr>\n",
       "  <th>Model:</th>            <td>ARIMA(1, 1, 1)</td>  <th>  Log Likelihood     </th> <td>-1980.391</td>\n",
       "</tr>\n",
       "<tr>\n",
       "  <th>Date:</th>            <td>Thu, 04 Aug 2022</td> <th>  AIC                </th> <td>3966.781</td> \n",
       "</tr>\n",
       "<tr>\n",
       "  <th>Time:</th>                <td>10:27:10</td>     <th>  BIC                </th> <td>3975.541</td> \n",
       "</tr>\n",
       "<tr>\n",
       "  <th>Sample:</th>             <td>01-07-2018</td>    <th>  HQIC               </th> <td>3970.341</td> \n",
       "</tr>\n",
       "<tr>\n",
       "  <th></th>                   <td>- 08-23-2020</td>   <th>                     </th>     <td> </td>    \n",
       "</tr>\n",
       "<tr>\n",
       "  <th>Covariance Type:</th>        <td>opg</td>       <th>                     </th>     <td> </td>    \n",
       "</tr>\n",
       "</table>\n",
       "<table class=\"simpletable\">\n",
       "<tr>\n",
       "     <td></td>       <th>coef</th>     <th>std err</th>      <th>z</th>      <th>P>|z|</th>  <th>[0.025</th>    <th>0.975]</th>  \n",
       "</tr>\n",
       "<tr>\n",
       "  <th>ar.L1</th>  <td>    0.6312</td> <td>    0.121</td> <td>    5.203</td> <td> 0.000</td> <td>    0.393</td> <td>    0.869</td>\n",
       "</tr>\n",
       "<tr>\n",
       "  <th>ma.L1</th>  <td>   -0.9395</td> <td>    0.061</td> <td>  -15.304</td> <td> 0.000</td> <td>   -1.060</td> <td>   -0.819</td>\n",
       "</tr>\n",
       "<tr>\n",
       "  <th>sigma2</th> <td>  2.45e+11</td> <td> 1.16e-12</td> <td> 2.11e+23</td> <td> 0.000</td> <td> 2.45e+11</td> <td> 2.45e+11</td>\n",
       "</tr>\n",
       "</table>\n",
       "<table class=\"simpletable\">\n",
       "<tr>\n",
       "  <th>Ljung-Box (L1) (Q):</th>     <td>2.09</td> <th>  Jarque-Bera (JB):  </th> <td>5331.43</td>\n",
       "</tr>\n",
       "<tr>\n",
       "  <th>Prob(Q):</th>                <td>0.15</td> <th>  Prob(JB):          </th>  <td>0.00</td>  \n",
       "</tr>\n",
       "<tr>\n",
       "  <th>Heteroskedasticity (H):</th> <td>7.05</td> <th>  Skew:              </th>  <td>3.25</td>  \n",
       "</tr>\n",
       "<tr>\n",
       "  <th>Prob(H) (two-sided):</th>    <td>0.00</td> <th>  Kurtosis:          </th>  <td>32.86</td> \n",
       "</tr>\n",
       "</table><br/><br/>Warnings:<br/>[1] Covariance matrix calculated using the outer product of gradients (complex-step).<br/>[2] Covariance matrix is singular or near-singular, with condition number 8.49e+38. Standard errors may be unstable."
      ],
      "text/plain": [
       "<class 'statsmodels.iolib.summary.Summary'>\n",
       "\"\"\"\n",
       "                               SARIMAX Results                                \n",
       "==============================================================================\n",
       "Dep. Variable:                  Sales   No. Observations:                  138\n",
       "Model:                 ARIMA(1, 1, 1)   Log Likelihood               -1980.391\n",
       "Date:                Thu, 04 Aug 2022   AIC                           3966.781\n",
       "Time:                        10:27:10   BIC                           3975.541\n",
       "Sample:                    01-07-2018   HQIC                          3970.341\n",
       "                         - 08-23-2020                                         \n",
       "Covariance Type:                  opg                                         \n",
       "==============================================================================\n",
       "                 coef    std err          z      P>|z|      [0.025      0.975]\n",
       "------------------------------------------------------------------------------\n",
       "ar.L1          0.6312      0.121      5.203      0.000       0.393       0.869\n",
       "ma.L1         -0.9395      0.061    -15.304      0.000      -1.060      -0.819\n",
       "sigma2       2.45e+11   1.16e-12   2.11e+23      0.000    2.45e+11    2.45e+11\n",
       "===================================================================================\n",
       "Ljung-Box (L1) (Q):                   2.09   Jarque-Bera (JB):              5331.43\n",
       "Prob(Q):                              0.15   Prob(JB):                         0.00\n",
       "Heteroskedasticity (H):               7.05   Skew:                             3.25\n",
       "Prob(H) (two-sided):                  0.00   Kurtosis:                        32.86\n",
       "===================================================================================\n",
       "\n",
       "Warnings:\n",
       "[1] Covariance matrix calculated using the outer product of gradients (complex-step).\n",
       "[2] Covariance matrix is singular or near-singular, with condition number 8.49e+38. Standard errors may be unstable.\n",
       "\"\"\""
      ]
     },
     "execution_count": 73,
     "metadata": {},
     "output_type": "execute_result"
    }
   ],
   "source": [
    "model_fit.summary()"
   ]
  },
  {
   "cell_type": "code",
   "execution_count": 75,
   "id": "1e6e856f",
   "metadata": {},
   "outputs": [
    {
     "data": {
      "text/plain": [
       "<AxesSubplot:xlabel='date'>"
      ]
     },
     "execution_count": 75,
     "metadata": {},
     "output_type": "execute_result"
    },
    {
     "data": {
      "image/png": "[encoded data removed]",
      "text/plain": [
       "<Figure size 864x576 with 1 Axes>"
      ]
     },
     "metadata": {
      "needs_background": "light"
     },
     "output_type": "display_data"
    }
   ],
   "source": [
    "indexeddf['forecast'] = model_fit.predict(start=105,end=138,dynamic=True)\n",
    "indexeddf[['Sales','forecast']].plot(figsize=(12,8))"
   ]
  },
  {
   "cell_type": "code",
   "execution_count": 102,
   "id": "493ff032",
   "metadata": {},
   "outputs": [
    {
     "name": "stderr",
     "output_type": "stream",
     "text": [
      "/opt/anaconda3/lib/python3.9/site-packages/statsmodels/tsa/base/tsa_model.py:471: ValueWarning: No frequency information was provided, so inferred frequency W-SUN will be used.\n",
      "  self._init_dates(dates, freq)\n",
      "/opt/anaconda3/lib/python3.9/site-packages/statsmodels/tsa/base/tsa_model.py:471: ValueWarning: No frequency information was provided, so inferred frequency W-SUN will be used.\n",
      "  self._init_dates(dates, freq)\n",
      "/opt/anaconda3/lib/python3.9/site-packages/statsmodels/tsa/statespace/sarimax.py:866: UserWarning: Too few observations to estimate starting parameters for seasonal ARMA. All parameters except for variances will be set to zeros.\n",
      "  warn('Too few observations to estimate starting parameters%s.'\n"
     ]
    },
    {
     "name": "stdout",
     "output_type": "stream",
     "text": [
      "RUNNING THE L-BFGS-B CODE\n",
      "\n",
      "           * * *\n",
      "\n",
      "Machine precision = 2.220D-16\n",
      " N =            7     M =           10\n",
      "\n",
      "At X0         0 variables are exactly at the bounds\n",
      "\n",
      "At iterate    0    f=  9.03255D+00    |proj g|=  6.95720D-02\n"
     ]
    },
    {
     "name": "stderr",
     "output_type": "stream",
     "text": [
      " This problem is unconstrained.\n"
     ]
    },
    {
     "name": "stdout",
     "output_type": "stream",
     "text": [
      "\n",
      "At iterate    5    f=  8.99443D+00    |proj g|=  5.75124D-03\n",
      "\n",
      "At iterate   10    f=  8.99205D+00    |proj g|=  1.46632D-02\n",
      "\n",
      "At iterate   15    f=  8.98825D+00    |proj g|=  4.13137D-03\n",
      "\n",
      "At iterate   20    f=  8.98792D+00    |proj g|=  7.19844D-05\n",
      "\n",
      "At iterate   25    f=  8.98790D+00    |proj g|=  7.93544D-04\n",
      "\n",
      "At iterate   30    f=  8.98788D+00    |proj g|=  3.09965D-05\n",
      "\n",
      "           * * *\n",
      "\n",
      "Tit   = total number of iterations\n",
      "Tnf   = total number of function evaluations\n",
      "Tnint = total number of segments explored during Cauchy searches\n",
      "Skip  = number of BFGS updates skipped\n",
      "Nact  = number of active bounds at final generalized Cauchy point\n",
      "Projg = norm of the final projected gradient\n",
      "F     = final function value\n",
      "\n",
      "           * * *\n",
      "\n",
      "   N    Tit     Tnf  Tnint  Skip  Nact     Projg        F\n",
      "    7     31     33      1     0     0   3.683D-05   8.988D+00\n",
      "  F =   8.9878836126407844     \n",
      "\n",
      "CONVERGENCE: REL_REDUCTION_OF_F_<=_FACTR*EPSMCH             \n"
     ]
    }
   ],
   "source": [
    "model = sm.tsa.statespace.SARIMAX(indexeddf['Sales'],order = (1, 1, 2),seasonal_order = (1,1,2,52))\n",
    "results = model.fit()"
   ]
  },
  {
   "cell_type": "code",
   "execution_count": 101,
   "id": "2891e497",
   "metadata": {},
   "outputs": [
    {
     "data": {
      "text/plain": [
       "<AxesSubplot:xlabel='date'>"
      ]
     },
     "execution_count": 101,
     "metadata": {},
     "output_type": "execute_result"
    },
    {
     "data": {
      "image/png": "[encoded data removed]",
      "text/plain": [
       "<Figure size 864x576 with 1 Axes>"
      ]
     },
     "metadata": {
      "needs_background": "light"
     },
     "output_type": "display_data"
    }
   ],
   "source": [
    "indexeddf['forecast'] = results.predict(start=105,end=138,dynamic=True)\n",
    "indexeddf[['Sales','forecast']].plot(figsize=(12,8))"
   ]
  },
  {
   "cell_type": "code",
   "execution_count": 91,
   "id": "2cc2d2e0",
   "metadata": {},
   "outputs": [],
   "source": [
    "from pandas.tseries.offsets import DateOffset\n",
    "future_dates = [indexeddf.index[-1]+ DateOffset(months=x)for x in range(0,17)]"
   ]
  },
  {
   "cell_type": "code",
   "execution_count": 92,
   "id": "3822556c",
   "metadata": {},
   "outputs": [],
   "source": [
    "future_datest_df = pd.DataFrame(index = future_dates[1:],columns = indexeddf.columns)"
   ]
  },
  {
   "cell_type": "code",
   "execution_count": 93,
   "id": "af00fdb2",
   "metadata": {},
   "outputs": [
    {
     "data": {
      "text/html": [
       "<div>\n",
       "<style scoped>\n",
       "    .dataframe tbody tr th:only-of-type {\n",
       "        vertical-align: middle;\n",
       "    }\n",
       "\n",
       "    .dataframe tbody tr th {\n",
       "        vertical-align: top;\n",
       "    }\n",
       "\n",
       "    .dataframe thead th {\n",
       "        text-align: right;\n",
       "    }\n",
       "</style>\n",
       "<table border=\"1\" class=\"dataframe\">\n",
       "  <thead>\n",
       "    <tr style=\"text-align: right;\">\n",
       "      <th></th>\n",
       "      <th>Sales</th>\n",
       "      <th>Sales Difference 13</th>\n",
       "      <th>Sales Difference 26</th>\n",
       "      <th>Sales Difference 52</th>\n",
       "      <th>Sales Difference 78</th>\n",
       "      <th>forecast</th>\n",
       "    </tr>\n",
       "  </thead>\n",
       "  <tbody>\n",
       "    <tr>\n",
       "      <th>2021-08-23</th>\n",
       "      <td>NaN</td>\n",
       "      <td>NaN</td>\n",
       "      <td>NaN</td>\n",
       "      <td>NaN</td>\n",
       "      <td>NaN</td>\n",
       "      <td>NaN</td>\n",
       "    </tr>\n",
       "    <tr>\n",
       "      <th>2021-09-23</th>\n",
       "      <td>NaN</td>\n",
       "      <td>NaN</td>\n",
       "      <td>NaN</td>\n",
       "      <td>NaN</td>\n",
       "      <td>NaN</td>\n",
       "      <td>NaN</td>\n",
       "    </tr>\n",
       "    <tr>\n",
       "      <th>2021-10-23</th>\n",
       "      <td>NaN</td>\n",
       "      <td>NaN</td>\n",
       "      <td>NaN</td>\n",
       "      <td>NaN</td>\n",
       "      <td>NaN</td>\n",
       "      <td>NaN</td>\n",
       "    </tr>\n",
       "    <tr>\n",
       "      <th>2021-11-23</th>\n",
       "      <td>NaN</td>\n",
       "      <td>NaN</td>\n",
       "      <td>NaN</td>\n",
       "      <td>NaN</td>\n",
       "      <td>NaN</td>\n",
       "      <td>NaN</td>\n",
       "    </tr>\n",
       "    <tr>\n",
       "      <th>2021-12-23</th>\n",
       "      <td>NaN</td>\n",
       "      <td>NaN</td>\n",
       "      <td>NaN</td>\n",
       "      <td>NaN</td>\n",
       "      <td>NaN</td>\n",
       "      <td>NaN</td>\n",
       "    </tr>\n",
       "  </tbody>\n",
       "</table>\n",
       "</div>"
      ],
      "text/plain": [
       "           Sales Sales Difference 13 Sales Difference 26 Sales Difference 52  \\\n",
       "2021-08-23   NaN                 NaN                 NaN                 NaN   \n",
       "2021-09-23   NaN                 NaN                 NaN                 NaN   \n",
       "2021-10-23   NaN                 NaN                 NaN                 NaN   \n",
       "2021-11-23   NaN                 NaN                 NaN                 NaN   \n",
       "2021-12-23   NaN                 NaN                 NaN                 NaN   \n",
       "\n",
       "           Sales Difference 78 forecast  \n",
       "2021-08-23                 NaN      NaN  \n",
       "2021-09-23                 NaN      NaN  \n",
       "2021-10-23                 NaN      NaN  \n",
       "2021-11-23                 NaN      NaN  \n",
       "2021-12-23                 NaN      NaN  "
      ]
     },
     "execution_count": 93,
     "metadata": {},
     "output_type": "execute_result"
    }
   ],
   "source": [
    "future_datest_df.tail()"
   ]
  },
  {
   "cell_type": "code",
   "execution_count": 97,
   "id": "d5c0aa10",
   "metadata": {},
   "outputs": [],
   "source": [
    "future_df = pd.concat([indexeddf,future_datest_df])"
   ]
  },
  {
   "cell_type": "code",
   "execution_count": 103,
   "id": "108cae32",
   "metadata": {},
   "outputs": [
    {
     "name": "stderr",
     "output_type": "stream",
     "text": [
      "/opt/anaconda3/lib/python3.9/site-packages/statsmodels/tsa/statespace/kalman_filter.py:2290: ValueWarning: Dynamic prediction specified to begin during out-of-sample forecasting period, and so has no effect.\n",
      "  warn('Dynamic prediction specified to begin during'\n"
     ]
    },
    {
     "data": {
      "text/plain": [
       "<AxesSubplot:>"
      ]
     },
     "execution_count": 103,
     "metadata": {},
     "output_type": "execute_result"
    },
    {
     "data": {
      "image/png": "[encoded data removed]",
      "text/plain": [
       "<Figure size 864x576 with 1 Axes>"
      ]
     },
     "metadata": {
      "needs_background": "light"
     },
     "output_type": "display_data"
    }
   ],
   "source": [
    "future_df['forecast'] = results.predict(start = 139, end = 156, dynamic= True)  \n",
    "future_df[['Sales', 'forecast']].plot(figsize=(12, 8))"
   ]
  },
  {
   "cell_type": "code",
   "execution_count": null,
   "id": "d2062c3d",
   "metadata": {},
   "outputs": [],
   "source": []
  }
 ],
 "metadata": {
  "kernelspec": {
   "display_name": "Python 3 (ipykernel)",
   "language": "python",
   "name": "python3"
  },
  "language_info": {
   "codemirror_mode": {
    "name": "ipython",
    "version": 3
   },
   "file_extension": ".py",
   "mimetype": "text/x-python",
   "name": "python",
   "nbconvert_exporter": "python",
   "pygments_lexer": "ipython3",
   "version": "3.9.12"
  }
 },
 "nbformat": 4,
 "nbformat_minor": 5
}
